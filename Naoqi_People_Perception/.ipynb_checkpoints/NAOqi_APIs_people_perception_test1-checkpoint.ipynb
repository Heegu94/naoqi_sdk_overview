{
 "cells": [
  {
   "cell_type": "markdown",
   "metadata": {},
   "source": [
    "# ALFaceDetection Test1\n",
    "___\n",
    "\n",
    "## Introduction\n",
    "\n",
    ": 이 tutorial은 python을 사용하여 ALFaceDetection module을 실행하는 방법을 설명한다. 우리는 ALMemory의 결과변수를 정기적으로 확인하는 접근법을 따를 것이다. detected된 얼굴에 대한 정보가 screen에 print되어진다.\n"
   ]
  },
  {
   "cell_type": "markdown",
   "metadata": {},
   "source": [
    "## Getting a proxy to ALFaceDetection\n",
    "___\n",
    " : Initialization 단계가 끝나면, 먼저 ALFaceDetection module에 대한 Proxy를 instantiate해야한다. (거의 기본이 되는 과정)"
   ]
  },
  {
   "cell_type": "code",
   "execution_count": null,
   "metadata": {},
   "outputs": [],
   "source": [
    "#   Proxy를 ALFaceDetection module 로 instantiate한다.\n",
    "#     Note that this module should be loaded on the robot's NAOqi.\n",
    "#     The module output its results in ALMemory in a variable\n",
    "#     called \"FaceDetected\"\n",
    "# - We then read this ALMemory value and check whether we get\n",
    "#   interesting things.\n",
    "\n",
    "import time\n",
    "from naoqi import ALProxy\n",
    "\n",
    "# robot's IP address\n",
    "IP = \"127.0.0.1\"\n",
    "PORT = 9559\n",
    "\n",
    "# Create a proxy to ALFaceDetection\n",
    "try:\n",
    "  faceProxy = ALProxy(\"ALFaceDetection\", IP, PORT)\n",
    "except Exception, e:\n",
    "  print \"Error when creating face detection proxy:\"\n",
    "  print str(e)\n",
    "  exit(1)\n",
    "\n",
    "# Subscribe to the ALFaceDetection proxy\n",
    "# This means that the module will write in ALMemory with\n",
    "# the given period below\n",
    "\n",
    "period = 500\n",
    "faceProxy.subscribe(\"Test_Face\", period, 0.0 )\n",
    "\n",
    "# \n",
    "# ALMemory variable where the ALFaceDetection module\n",
    "# outputs its results.\n",
    "memValue = \"FaceDetected\"\n",
    "\n",
    "# Create a proxy to ALMemory\n",
    "try:\n",
    "  memoryProxy = ALProxy(\"ALMemory\", IP, PORT)\n",
    "  except Exception, e:\n",
    "  print \"Error when creating memory proxy:\"\n",
    "  print str(e)\n",
    "  exit(1)\n",
    "\n",
    "# A simple loop that reads the memValue and checks whether faces are detected.\n",
    "for i in range(0, 20):\n",
    "  time.sleep(0.5)\n",
    "  val = memoryProxy.getData(memValue, 0)\n",
    "  print \"\"\n",
    "  print \"\\*****\"\n",
    "  print \"\"\n",
    "\n",
    "# Check whether we got a valid output: a list with two fields.\n",
    "if(val and isinstance(val, list) and len(val) == 2):\n",
    "  # We detected faces !\n",
    "  # For each face, we can read its shape info and ID.\n",
    "  # First Field = TimeStamp.\n",
    "  timeStamp = val[0]\n",
    "  # Second Field = array of face_Info's.\n",
    "  faceInfoArray = val[1]\n",
    "\n",
    "  try:\n",
    "  # Browse the faceInfoArray to get info on each detected face.\n",
    "    for faceInfo in faceInfoArray:\n",
    "    # First Field = Shape info.\n",
    "    faceShapeInfo = faceInfo[0]\n",
    "    # Second Field = Extra info (empty for now).\n",
    "    faceExtraInfo = faceInfo[1]\n",
    "    print \"  alpha %.3f - beta %.3f\" % (faceShapeInfo[1], faceShapeInfo[2])\n",
    "    print \"  width %.3f - height %.3f\" % (faceShapeInfo[3], faceShapeInfo[4])\n",
    "  except Exception, e:\n",
    "    print \"faces detected, but it seems getData is invalid. ALValue =\"\n",
    "    print val\n",
    "    print \"Error msg %s\" % (str(e))\n",
    "else:\n",
    "  print \"Error with getData. ALValue = %s\" % (str(val))\n",
    "  # Unsubscribe the module.\n",
    "\n",
    "faceProxy.unsubscribe(\"Test_Face\")\n",
    "print \"Test terminated successfully.\""
   ]
  },
  {
   "cell_type": "code",
   "execution_count": null,
   "metadata": {},
   "outputs": [],
   "source": []
  },
  {
   "cell_type": "code",
   "execution_count": null,
   "metadata": {},
   "outputs": [],
   "source": []
  },
  {
   "cell_type": "code",
   "execution_count": null,
   "metadata": {},
   "outputs": [],
   "source": []
  },
  {
   "cell_type": "code",
   "execution_count": null,
   "metadata": {},
   "outputs": [],
   "source": []
  },
  {
   "cell_type": "code",
   "execution_count": null,
   "metadata": {},
   "outputs": [],
   "source": []
  },
  {
   "cell_type": "code",
   "execution_count": null,
   "metadata": {},
   "outputs": [],
   "source": []
  },
  {
   "cell_type": "code",
   "execution_count": null,
   "metadata": {},
   "outputs": [],
   "source": []
  },
  {
   "cell_type": "code",
   "execution_count": null,
   "metadata": {},
   "outputs": [],
   "source": []
  },
  {
   "cell_type": "code",
   "execution_count": null,
   "metadata": {},
   "outputs": [],
   "source": []
  },
  {
   "cell_type": "code",
   "execution_count": null,
   "metadata": {},
   "outputs": [],
   "source": []
  },
  {
   "cell_type": "code",
   "execution_count": null,
   "metadata": {},
   "outputs": [],
   "source": []
  },
  {
   "cell_type": "code",
   "execution_count": null,
   "metadata": {},
   "outputs": [],
   "source": []
  }
 ],
 "metadata": {
  "kernelspec": {
   "display_name": "Python 2",
   "language": "python",
   "name": "python2"
  },
  "language_info": {
   "codemirror_mode": {
    "name": "ipython",
    "version": 3
   },
   "file_extension": ".py",
   "mimetype": "text/x-python",
   "name": "python",
   "nbconvert_exporter": "python",
   "pygments_lexer": "ipython3",
   "version": "3.5.2"
  }
 },
 "nbformat": 4,
 "nbformat_minor": 2
}
