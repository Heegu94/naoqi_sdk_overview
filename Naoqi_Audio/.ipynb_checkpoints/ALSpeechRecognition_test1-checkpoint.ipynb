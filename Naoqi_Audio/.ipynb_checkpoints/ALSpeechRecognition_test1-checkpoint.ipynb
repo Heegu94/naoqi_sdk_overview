{
 "cells": [
  {
   "cell_type": "markdown",
   "metadata": {},
   "source": [
    "# ALSpeechRecognition Tutorial\n",
    "___\n",
    ": 내장된 speech recognition을 사용하여, 어휘에서 단어를 인식하는 방법을 설명한다. \n",
    "\n",
    "___\n",
    "## creating a proxy on the module\n",
    "___\n",
    ":ASR 명령들을 사용하기 전에, 당신은 ASR module에 proxy를 생성해야 한다."
   ]
  },
  {
   "cell_type": "code",
   "execution_count": 3,
   "metadata": {},
   "outputs": [
    {
     "ename": "SyntaxError",
     "evalue": "invalid syntax (naoqi.py, line 220)",
     "output_type": "error",
     "traceback": [
      "Traceback \u001b[0;36m(most recent call last)\u001b[0m:\n",
      "  File \u001b[1;32m\"/home/heegu/.local/lib/python3.5/site-packages/IPython/core/interactiveshell.py\"\u001b[0m, line \u001b[1;32m3267\u001b[0m, in \u001b[1;35mrun_code\u001b[0m\n    exec(code_obj, self.user_global_ns, self.user_ns)\n",
      "\u001b[0;36m  File \u001b[0;32m\"<ipython-input-3-7df692194834>\"\u001b[0;36m, line \u001b[0;32m6\u001b[0;36m, in \u001b[0;35m<module>\u001b[0;36m\u001b[0m\n\u001b[0;31m    from naoqi import ALProxy\u001b[0m\n",
      "\u001b[0;36m  File \u001b[0;32m\"/home/heegu/naoqi/naoqi-sdk-2.5.5.5-linux64/lib/python2.7/site-packages/naoqi.py\"\u001b[0;36m, line \u001b[0;32m220\u001b[0m\n\u001b[0;31m    except RuntimeError,e:\u001b[0m\n\u001b[0m                       ^\u001b[0m\n\u001b[0;31mSyntaxError\u001b[0m\u001b[0;31m:\u001b[0m invalid syntax\n"
     ]
    }
   ],
   "source": [
    "# speech-recognition module에 proxy를 생성한다.\n",
    "from naoqi import ALProxy\n",
    "\n",
    "IP = \"<ROBOT_IP>\"\n",
    "asr = ALProxy(\"ALSpeechRecognition\", IP, 9559)"
   ]
  },
  {
   "cell_type": "markdown",
   "metadata": {},
   "source": [
    "## Changing the language of the speech recognition engine\n",
    "___\n",
    ": setLanguage 함수를 사용하는 것은 speech-recognition engine의 언어가 바꿔질 수 있다. 사용 가능한 언어의 list는 getAvailableLanguages 함수를 사용하여 얻을 수 있다.\n"
   ]
  },
  {
   "cell_type": "code",
   "execution_count": null,
   "metadata": {},
   "outputs": [],
   "source": [
    "# speech-recognition engine의 언어를 영어로 설정하였다.\n",
    "asr.setLanguage(\"English\")"
   ]
  },
  {
   "cell_type": "markdown",
   "metadata": {},
   "source": [
    "## Adding words to the vocabulary\n",
    "___\n",
    ": 인식하기 전에 speech-recognition engine에서 인식해야 할 단어 목록을 설정해야 한다. setWordListAssocials 함수를 사용할 경우 word spotting이 기본적으로는 비활성화 되어있다.\n",
    "\n",
    "* word spotting : 단어 추출\n"
   ]
  },
  {
   "cell_type": "code",
   "execution_count": null,
   "metadata": {},
   "outputs": [],
   "source": [
    "# Example: \"yes\", \"no\" and \"please\"를 vocabulary에 추가한다.\n",
    "\n",
    "vocabulary = [\"yes\", \"no\", \"please\"]\n",
    "asr.setVocabulary(vocabulary, False)\n",
    "\n",
    "# word spotting을 활성화 하고 싶다면:\n",
    "#asr.setVocabulary(vocabulary, True)"
   ]
  },
  {
   "cell_type": "markdown",
   "metadata": {},
   "source": [
    "## Starting and stopping the speech recognition engine\n",
    "___\n",
    ": speech-recognition engine을 시작하기 위해, module을 subscribe해야만 한다. 멈추고 싶다면 unsubscribe 하면 된다."
   ]
  },
  {
   "cell_type": "code",
   "execution_count": null,
   "metadata": {},
   "outputs": [],
   "source": [
    "# 사용자 Test_ASR로 speech recognition engine을 시작한다.\n",
    "\n",
    "asr.subscribe(\"Test_ASR\")\n",
    "\n",
    "# 사용자 Test_ASR로 speech recognition engine을 멈춘다.\n",
    "asr.unsubscribe(\"Test_ASR\")"
   ]
  },
  {
   "cell_type": "markdown",
   "metadata": {},
   "source": [
    "## test coding\n",
    "___"
   ]
  },
  {
   "cell_type": "code",
   "execution_count": null,
   "metadata": {},
   "outputs": [],
   "source": [
    "#! /usr/bin/env python\n",
    "# -*- encoding: UTF-8 -*-\n",
    "\n",
    "\"\"\"Test : ALSpeechRecognition Module 사용\"\"\"\n",
    "\n",
    "import qi\n",
    "import argparse\n",
    "import sys\n",
    "import time\n",
    "\n",
    "\n",
    "def main(session):\n",
    "    \"\"\"\n",
    "    ALSpeechRecognition module 을 사용한다.\n",
    "    \"\"\"\n",
    "    # service인 ALSpeechRecognition 을 가져온다.\n",
    "    asr_service = session.service(\"ALSpeechRecognition\")\n",
    "    \n",
    "    # 언어를 영어로 설정.\n",
    "    asr_service.setLanguage(\"English\")\n",
    "\n",
    "    #test : \"yes\", \"no\" and \"please\"를 vocabulary에 추가한다.(wordspotting은 비활성화)\n",
    "    vocabulary = [\"yes\", \"no\", \"please\"]\n",
    "    asr_service.setVocabulary(vocabulary, False)\n",
    "\n",
    "    # 사용자인 Test_ASR로 speech-recognition engine을 시작한다.\n",
    "    asr_service.subscribe(\"Test_ASR\") # subscribe 함으로써 시작.\n",
    "    print('Speech recognition engine started')\n",
    "    \n",
    "    time.sleep(20) # 20초간 멈춘다.\n",
    "    asr_service.unsubscribe(\"Test_ASR\") # unsubscribe 함으로써 멈춤.\n",
    "\n",
    "    # 로봇에 connect\n",
    "if __name__ == \"__main__\":\n",
    "    parser = argparse.ArgumentParser()\n",
    "    parser.add_argument(\"--ip\", type=str, default=\"127.0.0.1\",\n",
    "                        help=\"Robot IP address. On robot or Local Naoqi: use '127.0.0.1'.\")\n",
    "    parser.add_argument(\"--port\", type=int, default=9559,\n",
    "                        help=\"Naoqi port number\")\n",
    "\n",
    "    args = parser.parse_args()\n",
    "    session = qi.Session()\n",
    "    try:\n",
    "        session.connect(\"tcp://\" + args.ip + \":\" + str(args.port))\n",
    "    except RuntimeError:\n",
    "        print (\"Can't connect to Naoqi at ip \\\"\" + args.ip + \"\\\" on port \" + str(args.port) +\".\\n\"\n",
    "               \"Please check your script arguments. Run with -h option for help.\")\n",
    "        sys.exit(1)\n",
    "    main(session)"
   ]
  }
 ],
 "metadata": {
  "kernelspec": {
   "display_name": "Python 2",
   "language": "python",
   "name": "python2"
  },
  "language_info": {
   "codemirror_mode": {
    "name": "ipython",
    "version": 3
   },
   "file_extension": ".py",
   "mimetype": "text/x-python",
   "name": "python",
   "nbconvert_exporter": "python",
   "pygments_lexer": "ipython3",
   "version": "3.5.2"
  }
 },
 "nbformat": 4,
 "nbformat_minor": 2
}
