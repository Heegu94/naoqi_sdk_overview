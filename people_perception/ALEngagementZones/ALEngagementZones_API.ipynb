{
 "cells": [
  {
   "cell_type": "markdown",
   "metadata": {},
   "source": [
    "# ALEngagementZones API\n",
    "___\n",
    "## Method List\n",
    "___\n",
    "\n",
    "#### class ALEngagementZonesProxy\n",
    "\n",
    "   1. 모든 모듈처럼, 이 모듈은 ALModule API로부터 method를 상속받는다.\n",
    "   2. ALExtractor API 로부터 method를 상속받는다.\n",
    "   3. 또한 아래의 method들을 가진다.\n",
    "       1. ALEngagementZonesProxy::computeEngagementZone\n",
    "       2. ALEngagementZonesProxy::getFirstLimitDistance\n",
    "       3. ALEngagementZonesProxy::getLimitAngle\n",
    "       4. ALEngagementZonesProxy::getSecondLimitDistance\n",
    "       5. ALEngagementZonesProxy::setFirstLimitDistance\n",
    "       6. ALEngagementZonesProxy::setLimitAngle\n",
    "       7. ALEngagementZonesProxy::setSecondLimitDistance"
   ]
  },
  {
   "cell_type": "markdown",
   "metadata": {},
   "source": [
    "## Event List\n",
    "___\n",
    "1. EngagementZones/LimitAngleUpdated()\n",
    "\n",
    "2. EngagementZones/FirstLimitDistanceUpdated()\n",
    "\n",
    "3. EngagementZones/SecondLimitDistanceUpdated()\n",
    "\n",
    "#### EngagementZones and PeoplePerception :\n",
    "\n",
    "   1. EngagementZones/PeopleInZonesUpdated()\n",
    "   2. EngagementZones/PersonApproached()\n",
    "   3. EngagementZones/PersonMovedAway()\n",
    "   4. EngagementZones/PersonEnteredZone1()\n",
    "   5. EngagementZones/PersonEnteredZone2()\n",
    "   6. EngagementZones/PersonEnteredZone3() \n",
    "   \n",
    "#### EngagementZones and MovementDetection :\n",
    "\n",
    "  1. EngagementZones/MovementsInZonesUpdated()"
   ]
  },
  {
   "cell_type": "markdown",
   "metadata": {},
   "source": [
    "## ALMemory key list\n",
    "___\n",
    "#### EngagementZones and PeoplePerception:\n",
    "\n",
    "1. PeoplePerception/Person/<ID>/EngagementZone\n",
    "2. EngagementZones/PeopleInZone1\n",
    "3. EngagementZones/PeopleInZone2\n",
    "4. EngagementZones/PeopleInZone3\n",
    "\n",
    "#### EngagementZones and MovementDetection:\n",
    "\n",
    "1. EngagementZones/LastMovementsInZone1\n",
    "2. EngagementZones/LastMovementsInZone2\n",
    "3. EngagementZones/LastMovementsInZone3"
   ]
  },
  {
   "cell_type": "markdown",
   "metadata": {},
   "source": [
    "## Methods\n",
    "___\n",
    "\n",
    "> int ALEngagementZonesProxy::computeEngagementZone()\n",
    "\n",
    ": 이 함수는 두가지 오버로드들을 가지고 있다.\n",
    "\n",
    "1. ALEngagementZonesProxy::computeEngagementZone(x, y, z)는 FRAME_ROBOT에서 객체의 3D좌표를 사용한다.\n",
    "2. ALEngagementZonesProxy::computeEngagementZone(xAngle,yAngle,distance,cameraPositionRobot)은 이미지에서 객체의 각좌표와 카메라와의 거리 및 FRAME_ROBOT의 카메라 위치를 사용한다.\n",
    "    \n",
    "    \n",
    "___\n",
    "\n",
    "> int ALEngagementZonesProxy::computeEngagementZone(const float& x, const float& y, const float& z)\n",
    "\n",
    "Parameters : \n",
    "    1. x : FRAME_ROBOT에서의 Object의 x좌표값 \n",
    "    2. y : FRAME_ROBOT에서의 Object의 y좌표값\n",
    "    3. Z : FRAME_ROBOT에서의 Object의 z좌표값\n",
    "    \n",
    "Returns : 해당하는 Engagement 영역.\n",
    "\n",
    "___\n",
    "\n",
    "> int ALEngagementZonesProxy::computeEngagementZone(const float& xAngle, const float& yAngle, const float& distance, const AL::ALValue& cameraPositionRobot)\n",
    "\n",
    "Parameters :\n",
    "    1. xAngle : 이미지 안의 object의 수평 각도 좌표값(radian)\n",
    "    2. yAngle : 이미지 안의 object의 수직 각도 좌표값(radian)\n",
    "    3. distance : camera와 object 간의 거리\n",
    "    4. cameraPositionRobot : Position6D로 FRAME_ROBOT에 있는 카메라 위치 (0은 top camera, 1은 bot camera)\n",
    "    \n",
    "Returns : 해당하는 Engagement 영역.\n",
    "\n",
    "___\n",
    "\n",
    "\n"
   ]
  }
 ],
 "metadata": {
  "kernelspec": {
   "display_name": "Python 2",
   "language": "python",
   "name": "python2"
  },
  "language_info": {
   "codemirror_mode": {
    "name": "ipython",
    "version": 3
   },
   "file_extension": ".py",
   "mimetype": "text/x-python",
   "name": "python",
   "nbconvert_exporter": "python",
   "pygments_lexer": "ipython3",
   "version": "3.5.2"
  }
 },
 "nbformat": 4,
 "nbformat_minor": 2
}
