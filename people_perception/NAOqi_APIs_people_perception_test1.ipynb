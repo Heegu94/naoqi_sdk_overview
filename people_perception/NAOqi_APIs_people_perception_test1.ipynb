{
 "cells": [
  {
   "cell_type": "markdown",
   "metadata": {},
   "source": [
    "# ALFaceDetection Test1\n",
    "___\n",
    "\n",
    "## Introduction\n",
    "\n",
    ": 이 tutorial은 python을 사용하여 ALFaceDetection module을 실행하는 방법을 설명한다. 우리는 ALMemory의 결과변수를 정기적으로 확인하는 접근법을 따를 것이다. detected된 얼굴에 대한 정보가 screen에 print되어진다.\n"
   ]
  },
  {
   "cell_type": "markdown",
   "metadata": {},
   "source": [
    "## Getting a proxy to ALFaceDetection\n",
    "___\n",
    " : Initialization 단계가 끝나면, 먼저 ALFaceDetection module에 대한 Proxy를 instantiate해야한다. (거의 기본이 되는 과정)"
   ]
  },
  {
   "cell_type": "code",
   "execution_count": null,
   "metadata": {},
   "outputs": [],
   "source": [
    "#   Proxy를 ALFaceDetection module 로 instantiate한다.\n",
    "#     Note that this module should be loaded on the robot's NAOqi.\n",
    "#     The module output its results in ALMemory in a variable\n",
    "#     called \"FaceDetected\"\n",
    "# - We then read this ALMemory value and check whether we get\n",
    "#   interesting things.\n",
    "\n",
    "import time\n",
    "from naoqi import ALProxy\n",
    "\n",
    "# Replace this with your robot's IP address\n",
    "IP = \"10.0.252.91\"\n",
    "PORT = 9559\n",
    "\n",
    "# Create a proxy to ALFaceDetection\n",
    "try:\n",
    "  faceProxy = ALProxy(\"ALFaceDetection\", IP, PORT)\n",
    "except Exception, e:\n",
    "  print \"Error when creating face detection proxy:\"\n",
    "  print str(e)\n",
    "  exit(1)\n",
    "\n",
    "# Subscribe to the ALFaceDetection proxy\n",
    "# This means that the module will write in ALMemory with\n",
    "# the given period below\n",
    "period = 500\n",
    "faceProxy.subscribe(\"Test_Face\", period, 0.0 )"
   ]
  },
  {
   "cell_type": "code",
   "execution_count": null,
   "metadata": {},
   "outputs": [],
   "source": []
  },
  {
   "cell_type": "code",
   "execution_count": null,
   "metadata": {},
   "outputs": [],
   "source": []
  },
  {
   "cell_type": "code",
   "execution_count": null,
   "metadata": {},
   "outputs": [],
   "source": []
  },
  {
   "cell_type": "code",
   "execution_count": null,
   "metadata": {},
   "outputs": [],
   "source": []
  },
  {
   "cell_type": "code",
   "execution_count": null,
   "metadata": {},
   "outputs": [],
   "source": []
  },
  {
   "cell_type": "code",
   "execution_count": null,
   "metadata": {},
   "outputs": [],
   "source": []
  },
  {
   "cell_type": "code",
   "execution_count": null,
   "metadata": {},
   "outputs": [],
   "source": []
  },
  {
   "cell_type": "code",
   "execution_count": null,
   "metadata": {},
   "outputs": [],
   "source": []
  },
  {
   "cell_type": "code",
   "execution_count": null,
   "metadata": {},
   "outputs": [],
   "source": []
  },
  {
   "cell_type": "code",
   "execution_count": null,
   "metadata": {},
   "outputs": [],
   "source": []
  },
  {
   "cell_type": "code",
   "execution_count": null,
   "metadata": {},
   "outputs": [],
   "source": []
  },
  {
   "cell_type": "code",
   "execution_count": null,
   "metadata": {},
   "outputs": [],
   "source": []
  }
 ],
 "metadata": {
  "kernelspec": {
   "display_name": "Python 2",
   "language": "python",
   "name": "python2"
  },
  "language_info": {
   "codemirror_mode": {
    "name": "ipython",
    "version": 3
   },
   "file_extension": ".py",
   "mimetype": "text/x-python",
   "name": "python",
   "nbconvert_exporter": "python",
   "pygments_lexer": "ipython3",
   "version": "3.5.2"
  }
 },
 "nbformat": 4,
 "nbformat_minor": 2
}
