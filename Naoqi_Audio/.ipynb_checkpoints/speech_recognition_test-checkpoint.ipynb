{
 "cells": [
  {
   "cell_type": "markdown",
   "metadata": {},
   "source": [
    "# testing recognition\n",
    "___\n",
    "\n",
    ": pepper에게 어떤 목적지에 대해 말했을때, 해당 목적지에 관한 단어를 출력 시켜, 해당 목적지 정보를 출력 시킨다."
   ]
  },
  {
   "cell_type": "code",
   "execution_count": 8,
   "metadata": {},
   "outputs": [],
   "source": [
    "#! /usr/bin/env python\n",
    "# -*- encoding: UTF-8 -*-\n",
    "\n",
    "\"\"\"Test : ALSpeechRecognition Module 사용\"\"\"\n",
    "\n",
    "import qi\n",
    "import argparse\n",
    "import sys\n",
    "import time\n",
    "\n",
    "\n",
    "def main(session):\n",
    "    \"\"\"\n",
    "    ALSpeechRecognition module 을 사용한다.\n",
    "    \"\"\"\n",
    "    # service인 ALSpeechRecognition 을 가져온다.\n",
    "    asr_service = session.service(\"ALSpeechRecognition\")\n",
    "    \n",
    "    # ALTextToSpeech service를 tts로 가져온다.\n",
    "    tts = session.service(\"ALTextToSpeech\")\n",
    "    \n",
    "    # 언어를 영어로 설정.\n",
    "    asr_service.setLanguage(\"English\")\n",
    "    \n",
    "    #test : \"yes\", \"no\" and \"please\"를 vocabulary에 추가한다.(wordspotting은 비활성화)\n",
    "    vocabulary = [\"bathroom\", \"main\", \"reception\"]\n",
    "    asr_service.setVocabulary(vocabulary, False)\n",
    "    \n",
    "    try:\n",
    "        # 물어보기\n",
    "        tts.say(\"Hello! Where are you going?\")\n",
    "    \n",
    "    except BaseException as e:\n",
    "        print e\n",
    "\n",
    "    # 사용자인 Test_ASR로 speech-recognition engine을 시작한다.\n",
    "    \n",
    "    try :\n",
    "        asr_service.subscribe(\"Test_ASR\") # subscribe 함으로써 시작.\n",
    "        print('Speech recognition engine started')\n",
    "    \n",
    "        time.sleep(20) # 20초간 멈춘다.\n",
    "        asr_service.unsubscribe(\"Test_ASR\") # unsubscribe 함으로써 멈춤.\n",
    "    \n",
    "    except BaseException as e:\n",
    "        print e\n",
    "    \n",
    "    key_word = WordRecognized[0]\n",
    "    print(\"recognized word : \"+ key_word + \", confidence : \" + WordRecognized[1] + \" %\")  \n",
    "    \n",
    "    for i in key_word :\n",
    "        if i == \"bathroom\" :\n",
    "            recog_result = 0\n",
    "            \n",
    "        if i == \"main\" :\n",
    "            recog_result = 1\n",
    "            \n",
    "        if i == \"reception\" :\n",
    "            recog_result = 2\n",
    "            \n"
   ]
  },
  {
   "cell_type": "code",
   "execution_count": 13,
   "metadata": {},
   "outputs": [
    {
     "name": "stderr",
     "output_type": "stream",
     "text": [
      "usage: ipykernel_launcher.py [-h] [--ip IP] [--port PORT]\n",
      "ipykernel_launcher.py: error: unrecognized arguments: -f /run/user/1000/jupyter/kernel-6e7a38cd-3c1a-40dd-a932-4d252441a657.json\n"
     ]
    },
    {
     "ename": "SystemExit",
     "evalue": "2",
     "output_type": "error",
     "traceback": [
      "An exception has occurred, use %tb to see the full traceback.\n",
      "\u001b[0;31mSystemExit\u001b[0m\u001b[0;31m:\u001b[0m 2\n"
     ]
    },
    {
     "name": "stderr",
     "output_type": "stream",
     "text": [
      "/usr/local/lib/python2.7/dist-packages/IPython/core/interactiveshell.py:2886: UserWarning: To exit: use 'exit', 'quit', or Ctrl-D.\n",
      "  warn(\"To exit: use 'exit', 'quit', or Ctrl-D.\", stacklevel=1)\n"
     ]
    }
   ],
   "source": [
    "# 로봇에 connect\n",
    "if __name__ == \"__main__\":\n",
    "    parser = argparse.ArgumentParser()\n",
    "    parser.add_argument(\"--ip\", type=str, default=\"127.0.0.1\",\n",
    "                        help=\"Robot IP address. On robot or Local Naoqi: use '127.0.0.1'.\")\n",
    "    parser.add_argument(\"--port\", type=int, default=9559,\n",
    "                        help=\"Naoqi port number\")\n",
    "\n",
    "    args = parser.parse_args()\n",
    "    session = qi.Session()\n",
    "    try:\n",
    "        session.connect(\"tcp://\" + args.ip + \":\" + str(args.port))\n",
    "    except RuntimeError:\n",
    "        print (\"Can't connect to Naoqi at ip \\\"\" + args.ip + \"\\\" on port \" + str(args.port) +\".\\n\"\n",
    "               \"Please check your script arguments. Run with -h option for help.\")\n",
    "        sys.exit(1)\n",
    "    main(session)"
   ]
  },
  {
   "cell_type": "code",
   "execution_count": null,
   "metadata": {},
   "outputs": [],
   "source": []
  },
  {
   "cell_type": "code",
   "execution_count": null,
   "metadata": {},
   "outputs": [],
   "source": []
  },
  {
   "cell_type": "code",
   "execution_count": null,
   "metadata": {},
   "outputs": [],
   "source": []
  },
  {
   "cell_type": "code",
   "execution_count": null,
   "metadata": {},
   "outputs": [],
   "source": []
  },
  {
   "cell_type": "code",
   "execution_count": null,
   "metadata": {},
   "outputs": [],
   "source": []
  },
  {
   "cell_type": "code",
   "execution_count": null,
   "metadata": {},
   "outputs": [],
   "source": []
  },
  {
   "cell_type": "code",
   "execution_count": null,
   "metadata": {},
   "outputs": [],
   "source": []
  },
  {
   "cell_type": "code",
   "execution_count": null,
   "metadata": {},
   "outputs": [],
   "source": []
  },
  {
   "cell_type": "code",
   "execution_count": null,
   "metadata": {},
   "outputs": [],
   "source": []
  },
  {
   "cell_type": "code",
   "execution_count": null,
   "metadata": {},
   "outputs": [],
   "source": []
  },
  {
   "cell_type": "code",
   "execution_count": null,
   "metadata": {},
   "outputs": [],
   "source": []
  },
  {
   "cell_type": "code",
   "execution_count": null,
   "metadata": {},
   "outputs": [],
   "source": []
  },
  {
   "cell_type": "code",
   "execution_count": null,
   "metadata": {},
   "outputs": [],
   "source": []
  }
 ],
 "metadata": {
  "kernelspec": {
   "display_name": "Python 2",
   "language": "python",
   "name": "python2"
  },
  "language_info": {
   "codemirror_mode": {
    "name": "ipython",
    "version": 2
   },
   "file_extension": ".py",
   "mimetype": "text/x-python",
   "name": "python",
   "nbconvert_exporter": "python",
   "pygments_lexer": "ipython2",
   "version": "2.7.12"
  }
 },
 "nbformat": 4,
 "nbformat_minor": 2
}
