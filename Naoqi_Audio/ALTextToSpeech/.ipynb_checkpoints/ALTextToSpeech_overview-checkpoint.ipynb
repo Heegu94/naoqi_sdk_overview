{
 "cells": [
  {
   "cell_type": "markdown",
   "metadata": {},
   "source": [
    "# ALTextToSpeech\n",
    "___\n",
    "## What it works\n",
    "___\n",
    ": ALTextToSpeech module은 로봇이 말을 할 수 있도록 한다. 이는 text-to-speech engine으로 명령들을 보내고, 음성또한 사용자 지정할 수 있도록 한다. 합성결과는 로봇의 loudspeaker로 보내진다."
   ]
  },
  {
   "cell_type": "markdown",
   "metadata": {},
   "source": [
    "## How it works\n",
    "___\n",
    "### Speech engines\n",
    "___\n",
    ": ALTextToSpeech는 음성 합성기 또는 음성 engine을 기반으로 한다.\n",
    "\n",
    "선택된 언어에 따라, 특정 engine이 사용된다.\n",
    "\n",
    "Pepper : NUANCE \n",
    "\n",
    "Note : 사용되는 engine은 패키지의 설명에 표시된다.\n"
   ]
  },
  {
   "cell_type": "markdown",
   "metadata": {},
   "source": [
    "## Customization\n",
    "___\n",
    "### Using parameters\n",
    "___\n",
    ": 출력 오디오 스트림을 수정할 수 있다.\n",
    "\n",
    "=> 예를 들면, 아래와 같은 효과들이 가능하다.\n",
    "+ pitch shifting(음성 높낮이 변화)효과는 음성의 초기 높낮이를 수정한다.\n",
    "+ double voice(이중 음성)효과는 주 음성에 \"지연/에코\" 효과를 발생시킨다.\n",
    "\n",
    "=> 추가적인 파라미터들은 microAlTalk engine에 대해 사용 가능하다.\n",
    "\n",
    "추가적인 정보는 ALTextToSpeechProxy::setParameter 를 참조..\n",
    "\n",
    "### Using Tags\n",
    "___\n",
    "\n",
    ": 로봇이 말할때 몇가지 표현을 더하기 위해서는, 텍스트에 'tags'를 사용하는 것이 매우 권장된다. tags는 문장 중간에 위치하여, 음의 높낮이 , 속도, 단어의 음량을 바꿀수 있고 혹은 단어들사이에서 멈춤을 추가할 수 있고, 단어의 강조점을 바꿀  수 있게 한다.\n",
    "\n",
    "=> 더 자세한 정보를 위해, see : (http://doc.aldebaran.com/2-5/naoqi/audio/altexttospeech-tuto.html#tag-tutorial)\n",
    "\n"
   ]
  },
  {
   "cell_type": "markdown",
   "metadata": {},
   "source": [
    "## Getting Started\n",
    "___\n",
    ": ALTextToSpeech를 시작하는 가장 간단한 방법은 Choregraphe box 중 'Say'를 사용하는 것이다.\n",
    "\n",
    "### Testing on a real or virtual robot\n",
    "___\n",
    ": ACAPELA, microAITalk and Nuance engine들은 실제 로봇에서만 가능하다.\n",
    "\n",
    "가상로봇을 사용할때, Choregraphe Robot View 및 Dialog 패널에서 텍스트를 시각화 할 수 있다."
   ]
  }
 ],
 "metadata": {
  "kernelspec": {
   "display_name": "Python 2",
   "language": "python",
   "name": "python2"
  },
  "language_info": {
   "codemirror_mode": {
    "name": "ipython",
    "version": 2
   },
   "file_extension": ".py",
   "mimetype": "text/x-python",
   "name": "python",
   "nbconvert_exporter": "python",
   "pygments_lexer": "ipython2",
   "version": "2.7.12"
  }
 },
 "nbformat": 4,
 "nbformat_minor": 2
}
