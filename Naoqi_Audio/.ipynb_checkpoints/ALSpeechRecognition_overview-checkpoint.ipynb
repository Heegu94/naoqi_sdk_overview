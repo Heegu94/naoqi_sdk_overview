{
 "cells": [
  {
   "cell_type": "markdown",
   "metadata": {},
   "source": [
    "# ALSpeechRecognition\n",
    "___\n",
    "## What it does\n",
    "___\n",
    ": ALSpeechRecognition module은 로봇에게 미리 결정된 단어 혹은 구절을 여러 언어들로 인식할 수 있는 능력을 부여한다. \n",
    "\n",
    "언어 코드들의 전체 list는 :\n",
    "\n",
    "for pepper : http://doc.aldebaran.com/2-4/family/pepper_technical/languages_pep.html#language-codes-pep\n",
    "\n"
   ]
  },
  {
   "cell_type": "markdown",
   "metadata": {},
   "source": [
    "# Supported languages\n",
    "___\n",
    ": 지원과 통합의 수준은 모든 언어들에서 같지 않다.\n",
    "\n",
    "> 아래의 목록은 발전될 수 있다.\n",
    "\n",
    "![languages_pep.png](./languages_pep.png)\n",
    "\n",
    "\n",
    "### Basic Channel- List of supported Languages\n",
    "___\n",
    "#### Conversation\n",
    "> ['Japanese', 'English', 'French']\n",
    "\n",
    "#### Activity launcher\n",
    "> ['Japanese', 'English', 'French', 'Italian', 'German', 'Spanish', 'Chinese', 'MandarinTaiwan']\n",
    "\n",
    "### Dialog - List of supported lanc=guages\n",
    "___\n",
    "> ['Japanese', 'English', 'French', 'Italian', 'German', 'Spanish', 'Chinese', 'MandarinTaiwan', 'Dutch', 'Arabic']\n",
    "\n",
    "#### Codification\n",
    "1. Code : kok / Name : Korean\n",
    "2. Code : enu / Name : English\n",
    "\n",
    "### ALTextToSpeech, ALSpeechRecognition - List of supported Languages\n",
    "___\n",
    "> ['Japanese', 'English', 'French', 'Italian', 'German', 'Spanish', 'Chinese', 'MandarinTaiwan', 'Dutch', 'Arabic']\n",
    "\n",
    "#### Codification\n",
    "\n",
    ">['Arabic', 'Brazilian', 'Chinese', 'Czech', 'Danish', 'Dutch', 'English', 'Finnish', 'French', 'German', 'Greek', 'Italian', 'Japanese', 'Korean', 'MandarinTaiwan', 'Norwegian', 'Polish', 'Portuguese', 'Russian', 'Spanish', 'Swedish', 'Turkish']\n",
    "\n",
    "### Remote ASR Engine - List of supported Languages \n",
    "___\n",
    "> #April 2017\n",
    ">\n",
    ">['English', 'Japanese', 'Chinese', 'MandarinTaiwan']\n"
   ]
  },
  {
   "cell_type": "markdown",
   "metadata": {},
   "source": [
    "## How it works\n",
    "___\n",
    "### Technology \n",
    ": ALSpeechRecognition은 NUANCE에 의해 제공된 정교한 speech recognition 기술들에 의존한다.\n",
    "\n",
    "### Operating Principle\n",
    "#### Step & Description\n",
    "A : 시작하기 전에, ALSpeechRecognition은 인식되어야하는 구절들의 list로 제공되어야 한다. \n",
    "B : 한번 시작되면, ALSpeechRecognition은 스피커가 현재 들리는지 여부를 지정하는 boolean인 SpeechDetected key안에 위치한다.\n",
    "C : 만약 speaker 가 들었다면, 로봇에 의해 들은 것 중에 가장 일치하는 list의 element가 WordRecognized key안에 위치한다. \n",
    "D : 만약 speaker 가 들었다면, 로봇에 의해 들은 것 중에 가장 일치하는 list의 element가 WordRecognizedAndGrammar key안에 위치한다.\n",
    "\n",
    "=> WordRecognized key는 아래와 같이 구성된다\n",
    "\n",
    ">[phrase_1, confidence_1, phrase_2, confidence_2, ..., phrase_n, confidence_n]\n",
    "\n",
    "where :\n",
    "1. phrase_i 는 미리 결정된 구절들 중 하나이다. \n",
    "2. confidence_i 는 이 구절이 말하는 사람에 의해 발음된 것인지에 대한 확률을 추정한다.\n",
    "3. grammar_i 는 recognition engine에 의해 사용된 문법의 이름이다.\n",
    "\n",
    "=> key에 포함된 다른 추측들은 가장 가능성이 높은 구절이 먼저 나오도록 정렬되어 있다."
   ]
  },
  {
   "cell_type": "markdown",
   "metadata": {},
   "source": [
    "## Word spotting option \n",
    "___\n",
    ": ALSpeechRecognitionProxy::setVocabulary의 enableWordSpotting 파라미터는 반환된 결과내용을 수정한다.\n",
    "\n",
    "1. if true : Phrase_i 는 <...>phrase<...> 를 포함한다. 여기서 마커인 '<...>'는 음성 인식의 garbage 결과들을 나타낸다.\n",
    "2. if false : Phrase_i 는 정확히 찾아진 구절을 포함한다."
   ]
  },
  {
   "cell_type": "markdown",
   "metadata": {},
   "source": [
    "## Getting started\n",
    "___\n",
    ": Choregraphe를 사용하여 speech recognition의 기본적인 기능들을 확인하려면, \n",
    "\n",
    "see the tutorial : (http://doc.aldebaran.com/2-5/software/choregraphe/tutos/speech_recognition.html#speech-recognition-tuto)"
   ]
  }
 ],
 "metadata": {
  "kernelspec": {
   "display_name": "Python 2",
   "language": "python",
   "name": "python2"
  },
  "language_info": {
   "codemirror_mode": {
    "name": "ipython",
    "version": 3
   },
   "file_extension": ".py",
   "mimetype": "text/x-python",
   "name": "python",
   "nbconvert_exporter": "python",
   "pygments_lexer": "ipython3",
   "version": "3.5.2"
  }
 },
 "nbformat": 4,
 "nbformat_minor": 2
}
