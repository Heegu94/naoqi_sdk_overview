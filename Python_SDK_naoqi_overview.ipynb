{
 "cells": [
  {
   "cell_type": "markdown",
   "metadata": {},
   "source": [
    "# Python SDK : naoqi_overview\n",
    "---"
   ]
  },
  {
   "cell_type": "markdown",
   "metadata": {},
   "source": [
    "## 1. Python SDK 란 무엇인가\n",
    "___"
   ]
  },
  {
   "cell_type": "markdown",
   "metadata": {},
   "source": [
    "Aldebaran 로봇을 위한 Python SDK는 다음 기능을 수행한다.\n",
    "\n",
    "원격 머신의 C++ API를 모두 사용하게 하거나 원격 또는 로봇에서 작동 가능한 Python 모듈을 생성한다.\n",
    "\n",
    "Python을 사용하는 것은 Aldebaran 로봇을 프로그래밍하는 가장 빠른 방법 중 하나이다.\n",
    "\n"
   ]
  },
  {
   "cell_type": "markdown",
   "metadata": {},
   "source": [
    "### 핵심 개념 마스터하기"
   ]
  },
  {
   "cell_type": "markdown",
   "metadata": {},
   "source": [
    "먼저 핵심 개념을 읽어보십시오.\n",
    "\n",
    "기본 접근법은 다음과 같다.\n",
    "\n",
    "    1.ALProxy\n",
    "\n",
    "    2.사용할 모듈에 ALProxy 생성\n",
    "\n",
    "    3.method 호출\n",
    "\n",
    "이는 다음 예에서 확인 할 수 있으며, 자세한 것은 튜토리얼에서 설명합니다."
   ]
  },
  {
   "cell_type": "markdown",
   "metadata": {},
   "source": [
    "### ex) Making Nao speak"
   ]
  },
  {
   "cell_type": "code",
   "execution_count": null,
   "metadata": {},
   "outputs": [],
   "source": [
    "from naoqi import ALProxy\n",
    "\n",
    "tts = ALProxy(\"ALTextToSpeech\", \"<IP of your robot>\", 9559)\n",
    "tts.say(\"Hello, world!\")"
   ]
  },
  {
   "cell_type": "markdown",
   "metadata": {},
   "source": [
    "ex) default인 영어가 아닌 다른 언어로 출력할 경우, ALTextToSpeechProxy::setLanguage 사용"
   ]
  },
  {
   "cell_type": "code",
   "execution_count": null,
   "metadata": {},
   "outputs": [],
   "source": [
    "from naoqi import ALProxy\n",
    "\n",
    "tts = ALProxy(\"ALTextToSpeech\", \"<IP of your robot>\", 9559)\n",
    "tts.setLanguage(\"Japanese\")\n",
    "tts.say(\"こんにちは\")"
   ]
  },
  {
   "cell_type": "markdown",
   "metadata": {},
   "source": [
    "Python SDK의 일부는 Choregraphe 내부적으로 사용하거나 자동으로 생성되므로, 이곳에 문서화되지 않은 것은 사용하지말거나, API 변경을 기다리십시오."
   ]
  },
  {
   "cell_type": "markdown",
   "metadata": {},
   "source": [
    "## 1) Using Proxy"
   ]
  },
  {
   "cell_type": "markdown",
   "metadata": {},
   "source": [
    "'ALProxy' 는 연결하고자 하는 모든 methods 나 module에 접근할 수 있게 해주는 객체이다."
   ]
  },
  {
   "cell_type": "code",
   "execution_count": null,
   "metadata": {},
   "outputs": [],
   "source": [
    "class ALProxy(name, ip, port)"
   ]
  },
  {
   "cell_type": "code",
   "execution_count": null,
   "metadata": {},
   "outputs": [],
   "source": [
    "class ALProxy(name)"
   ]
  },
  {
   "cell_type": "markdown",
   "metadata": {},
   "source": [
    "\n",
    "    (1)name - module의 이름\n",
    "\n",
    "    (2)ip - 사용하고자 하는 로봇의 IP\n",
    "\n",
    "    (3)port - NAOqi가 listen 하는 port(default is The port on which NAOqi listens (9559 by default)\n"
   ]
  },
  {
   "cell_type": "markdown",
   "metadata": {},
   "source": [
    "모든 method는 객체를 통해 직접적으로 접근가능하다. \n",
    "\n",
    "예를 들면,"
   ]
  },
  {
   "cell_type": "code",
   "execution_count": null,
   "metadata": {},
   "outputs": [],
   "source": [
    "almemory = ALProxy(\"ALMemory\", \"nao.local\", 9559)\n",
    "pings = almemory.ping()"
   ]
  },
  {
   "cell_type": "markdown",
   "metadata": {},
   "source": [
    "# 2. Tutorials\n",
    "___"
   ]
  },
  {
   "cell_type": "markdown",
   "metadata": {},
   "source": [
    "## 1) Parallel Tasks - Making Nao move and speak\n",
    "___"
   ]
  },
  {
   "cell_type": "markdown",
   "metadata": {},
   "source": [
    "### Setting NAO stiffness"
   ]
  },
  {
   "cell_type": "markdown",
   "metadata": {},
   "source": [
    "robot joint의 stiffness를 0이 아닌 다른 값으로 설정하여야 robot이 움직일 것이다.\n",
    "\n",
    "이렇게 하기 위해서는, ALMotionProxy::setStiffness method를 불러오면 된다."
   ]
  },
  {
   "cell_type": "code",
   "execution_count": null,
   "metadata": {},
   "outputs": [],
   "source": [
    "from naoqi import ALProxy\n",
    "\n",
    "motion = ALProxy(\"ALMotion\", \"nao.local\", 9559)\n",
    "motion.setStiffness(\"Body\", 1.0)"
   ]
  },
  {
   "cell_type": "markdown",
   "metadata": {},
   "source": [
    "API가 \"ALValue\" world를 사용했음을 알게 된다. 그저 python world에서 \"ALValue\"가 배열이 될 때, 단순한 리스트를 사용하는 것만 큼 중요하지 않습니다.\n",
    "\n",
    "다른 types(float, int, string, etc.)로 변환 되는것은 자동적으로 진행된다."
   ]
  },
  {
   "cell_type": "markdown",
   "metadata": {},
   "source": [
    "### Making NAO move"
   ]
  },
  {
   "cell_type": "markdown",
   "metadata": {},
   "source": [
    "NAO를 움직이게 하기 위해서는 ALMotionProxy::moveInit(로봇을 맞는 position에 놓기 위해)을 사용해야하고, 그 다음은 ALMorionProxy::moveTo "
   ]
  },
  {
   "cell_type": "code",
   "execution_count": null,
   "metadata": {},
   "outputs": [],
   "source": [
    "from naoqi import ALProxy\n",
    "\n",
    "motion = ALProxy(\"ALMotion\", \"nao.local\", 9559)\n",
    "motion.moveInit()\n",
    "motion.moveTo(0.5, 0, 0)"
   ]
  },
  {
   "cell_type": "markdown",
   "metadata": {},
   "source": [
    "### Making NAO move and speak at the same time (parallel tasks)"
   ]
  },
  {
   "cell_type": "markdown",
   "metadata": {},
   "source": [
    "생성한 모든 proxy에는 백그라운드에서 긴 메소드를 호출하는 데 사용할 수있는 'post'라는 속성이 있습니다.\n",
    "\n",
    "이렇게하면 로봇이 동시에 여러 가지 일을하도록 할 수 있습니다."
   ]
  },
  {
   "cell_type": "code",
   "execution_count": null,
   "metadata": {},
   "outputs": [],
   "source": [
    "from naoqi import ALProxy\n",
    "\n",
    "motion = ALProxy(\"ALMotion\", \"nao.local\", 9559)\n",
    "tts = ALProxy(\"ALTextToSpeech\", \"nao.local\", 9559)\n",
    "\n",
    "motion.moveInit()\n",
    "motion.post.moveTo(0.5, 0, 0)\n",
    "tts.say(\"I'm walking\")"
   ]
  },
  {
   "cell_type": "markdown",
   "metadata": {},
   "source": [
    "만약 당신은 주어진 task가 끝날때까지 기다려야 한다면, post 사용으로 반환된 tasked ID를 사용하여 ALProxy에서 wait method를 사용할 수 있다. "
   ]
  },
  {
   "cell_type": "code",
   "execution_count": null,
   "metadata": {},
   "outputs": [],
   "source": [
    "from naoqi import ALProxy\n",
    "\n",
    "motion = ALProxy(\"ALMotion\", \"nao.local\", 9559)\n",
    "motion.moveInit()\n",
    "id = motion.post.moveTo(0.5, 0, 0)\n",
    "motion.wait(id, 0)"
   ]
  },
  {
   "cell_type": "markdown",
   "metadata": {},
   "source": [
    "# example of wait method\n",
    "\n",
    "from mnaoqi import ALProxy\n",
    "\n",
    "motion = ALProxy(\"ALMotion\", \"nao.local\", 9559)\n",
    "tts = ALProxy(\"ALTextToSpeech\", \"nao.local\", 9559)\n",
    "\n",
    "motion.moveInit()\n",
    "id = motion.post.moveTo(0.5, 0, 0)\n",
    "motion.wait(id, 0) # wait for id's task to be finished\n",
    "tts.say(\"I'm walking\") #then tts starts\n"
   ]
  },
  {
   "cell_type": "markdown",
   "metadata": {},
   "source": [
    "## 2) Reacting to events\n",
    "___"
   ]
  },
  {
   "cell_type": "markdown",
   "metadata": {},
   "source": [
    "사람의 얼굴을 탐지할때마다, \"Hello, you\" 라고 매번 말하다록 하고 싶다.\n",
    "\n",
    "이것을 하기 위해서는, 우리는 ALFacedetection module에서 재기된 'FaceDetected' event를 구독하고, callback으로 연결하여야 한다.\n",
    "\n",
    "callback 은 event가 발생할 때마다 실행되는 function이다.\n",
    "\n",
    "밑의 예제에서 찾을 수 있다. : script를 실행하고, 로봇앞에 얼굴을 대면: \"Hello, you\" 라고 하는 것을 들을 수 있다.  "
   ]
  },
  {
   "cell_type": "code",
   "execution_count": null,
   "metadata": {},
   "outputs": [],
   "source": [
    "#! /usr/bin/env python\n",
    "# -*- encoding: UTF-8 -*-\n",
    "\n",
    "\"\"\"Example: A Simple class to get & read FaceDetected Events\"\"\"\n",
    "\n",
    "import qi\n",
    "import time\n",
    "import sys\n",
    "import argparse\n",
    "\n",
    "\n",
    "class HumanGreeter(object):\n",
    "    \"\"\"\n",
    "    A simple class to react to face detection events.\n",
    "    \"\"\"\n",
    "\n",
    "    def __init__(self, app):\n",
    "        \"\"\"\n",
    "        Initialisation of qi framework and event detection.\n",
    "        \"\"\"\n",
    "        super(HumanGreeter, self).__init__()\n",
    "        app.start()\n",
    "        session = app.session\n",
    "        \n",
    "        # Get the service ALMemory.\n",
    "        self.memory = session.service(\"ALMemory\")\n",
    "        \n",
    "        # Connect the event callback.\n",
    "        self.subscriber = self.memory.subscriber(\"FaceDetected\")\n",
    "        self.subscriber.signal.connect(self.on_human_tracked)\n",
    "        \n",
    "        # Get the services ALTextToSpeech and ALFaceDetection.\n",
    "        self.tts = session.service(\"ALTextToSpeech\")\n",
    "        self.face_detection = session.service(\"ALFaceDetection\")\n",
    "        self.face_detection.subscribe(\"HumanGreeter\")\n",
    "        self.got_face = False\n",
    "\n",
    "    def on_human_tracked(self, value):\n",
    "        \"\"\"\n",
    "        Callback for event FaceDetected.\n",
    "        \"\"\"\n",
    "        if value == []:  # empty value when the face disappears\n",
    "            self.got_face = False\n",
    "            \n",
    "        elif not self.got_face:  # only speak the first time a face appears\n",
    "            self.got_face = True\n",
    "            print(\"I saw a face!\")\n",
    "            self.tts.say(\"Hello, you!\")\n",
    "            \n",
    "            # First Field = TimeStamp.\n",
    "            timeStamp = value[0]\n",
    "            print(\"TimeStamp is: \" + str(timeStamp))\n",
    "\n",
    "            # Second Field = array of face_Info's.\n",
    "            faceInfoArray = value[1]\n",
    "            for j in range( len(faceInfoArray)-1 ):\n",
    "                faceInfo = faceInfoArray[j]\n",
    "\n",
    "                # First Field = Shape info.\n",
    "                faceShapeInfo = faceInfo[0]\n",
    "\n",
    "                # Second Field = Extra info (empty for now).\n",
    "                faceExtraInfo = faceInfo[1]\n",
    "\n",
    "                print(\"Face Infos :  alpha %.3f - beta %.3f\" % (faceShapeInfo[1], faceShapeInfo[2]) )\n",
    "                print(\"Face Infos :  width %.3f - height %.3f\" % (faceShapeInfo[3], faceShapeInfo[4]) )\n",
    "                print(\"Face Extra Infos :\" + str(faceExtraInfo) )\n",
    "\n",
    "    def run(self):\n",
    "        \"\"\"\n",
    "        Loop on, wait for events until manual interruption.\n",
    "        \"\"\"\n",
    "        print(\"Starting HumanGreeter\")\n",
    "        try:\n",
    "            while True:\n",
    "                time.sleep(1)\n",
    "        except KeyboardInterrupt:\n",
    "            print(\"Interrupted by user, stopping HumanGreeter\")\n",
    "            self.face_detection.unsubscribe(\"HumanGreeter\")\n",
    "            \n",
    "            #stop\n",
    "            sys.exit(0)\n",
    "\n",
    "\n",
    "if __name__ == \"__main__\":\n",
    "    parser = argparse.ArgumentParser()\n",
    "    parser.add_argument(\"--ip\", type=str, default=\"127.0.0.1\",\n",
    "                        help=\"Robot IP address. On robot or Local Naoqi: use '127.0.0.1'.\")\n",
    "    parser.add_argument(\"--port\", type=int, default=9559,\n",
    "                        help=\"Naoqi port number\")\n",
    "\n",
    "    args = parser.parse_args()\n",
    "    \n",
    "    try:\n",
    "        # Initialize qi framework.\n",
    "        connection_url = \"tcp://\" + args.ip + \":\" + str(args.port)\n",
    "        app = qi.Application([\"HumanGreeter\", \"--qi-url=\" + connection_url])\n",
    "    except RuntimeError:\n",
    "        print(\"Can't connect to Naoqi at ip \\\"\" + args.ip + \"\\\" on port \" + str(args.port) +\".\\n\"\n",
    "               \"Please check your script arguments. Run with -h option for help.\")\n",
    "        sys.exit(1)\n",
    "\n",
    "    human_greeter = HumanGreeter(app)\n",
    "    human_greeter.run()"
   ]
  },
  {
   "cell_type": "markdown",
   "metadata": {},
   "source": [
    "참고 : subscriber variable을 메모리에 유지해야합니다. 그렇지 않으면 subscriber variable이 파괴되어 연결이 끊어집니다. 여기서는 class variable로 유지합니다."
   ]
  },
  {
   "cell_type": "markdown",
   "metadata": {},
   "source": [
    "## 3) logging data - head angles"
   ]
  },
  {
   "cell_type": "markdown",
   "metadata": {},
   "source": [
    "로봇에 있는 다양한 센서들의 값을 저장하는 것은 쉽다.\n",
    "\n",
    "밑의 예제를 보자"
   ]
  },
  {
   "cell_type": "code",
   "execution_count": null,
   "metadata": {},
   "outputs": [],
   "source": [
    "#! /usr/bin/env python\n",
    "# -*- encoding: UTF-8 -*-\n",
    "\n",
    "\"\"\"Example: Record some sensors values and write them into a file.\"\"\"\n",
    "\n",
    "import qi \n",
    "import argparse\n",
    "import sys\n",
    "import os\n",
    "import time\n",
    "\n",
    "# MEMORY_VALUE_NAMES is the list of ALMemory value's name which you want to save.\n",
    "ALMEMORY_KEY_NAMES = [\"Device/SubDeviceList/HeadYaw/Position/Sensor/Value\",\n",
    "                      \"Device/SubDeviceList/HeadYaw/Position/Actuator/Value\"]\n",
    "\n",
    "def recordData(memory_service):\n",
    "    \"\"\" Record the data from ALMemory.\n",
    "    Returns a matrix of values\n",
    "\n",
    "    \"\"\"\n",
    "    print(\"Recording data ...\")\n",
    "    data = list()\n",
    "    for range_counter in range(1, 100):\n",
    "        line = list()\n",
    "        for key in ALMEMORY_KEY_NAMES:\n",
    "            value = momory_service.getData(key)\n",
    "            line.append(value)\n",
    "        data.append(line)\n",
    "        time.sleep(0.05)\n",
    "    return(data)\n",
    "\n",
    "def main(session):\n",
    "    \"\"\" Parse command line arguments, run recordData\n",
    "    and write the results into a csv file.\n",
    "    \"\"\"\n",
    "    \n",
    "    # Get the services ALMemory and ALMotion.\n",
    "    memory_service = session.service(\"ALMemory\")\n",
    "    motion_service = session.service(\"ALMotion\")\n",
    "\n",
    "    # Set stiffness on for Head motors\n",
    "    motion_service.setStiffnesses(\"Head\", 1.0)\n",
    "    # Will go to 1.0 then 0 radian in two seconds\n",
    "    motion_service.angleInterpolation(\n",
    "        [\"HeadYaw\"],\n",
    "        [1.0, 0.0],\n",
    "        [1  , 2],\n",
    "        False,\n",
    "        _async=True\n",
    "    )\n",
    "    data = recordData(memory_service)\n",
    "    \n",
    "    # Gently set stiff off for Head motors\n",
    "    motion_service.setStiffnesses(\"Head\", 0.0)\n",
    "\n",
    "    output = os.path.abspath(\"record.csv\")\n",
    "\n",
    "    with open(output, \"w\") as fp:\n",
    "        for line in data:\n",
    "            fp.write(\"; \".join(str(x) for x in line))\n",
    "            fp.write(\"\\n\")\n",
    "\n",
    "    print \"Results written to\", output\n",
    "\n",
    "\n",
    "if __name__ == \"__main__\":\n",
    "    parser = argparse.ArgumentParser()\n",
    "    parser.add_argument(\"--ip\", type=str, default=\"127.0.0.1\",\n",
    "                        help=\"Robot IP address. On robot or Local Naoqi: use '127.0.0.1'.\")\n",
    "    parser.add_argument(\"--port\", type=int, default=9559,\n",
    "                        help=\"Naoqi port number\")\n",
    "\n",
    "    args = parser.parse_args()\n",
    "    session = qi.Session()\n",
    "    try:\n",
    "        session.connect(\"tcp://\" + args.ip + \":\" + str(args.port))\n",
    "    except RuntimeError:\n",
    "        print (\"Can't connect to Naoqi at ip \\\"\" + args.ip + \"\\\" on port \" + str(args.port) +\".\\n\"\n",
    "               \"Please check your script arguments. Run with -h option for help.\")\n",
    "        sys.exit(1)\n",
    "    main(session)\n",
    "    \n",
    "    "
   ]
  },
  {
   "cell_type": "markdown",
   "metadata": {},
   "source": [
    "\n",
    "우리는 그저 ALMemoryProxy::getData 를 매 50ms 마다 부르면 되고, 값들을 행렬에 저장하면 된다. 그리고 그 행렬을 파일로 쓰면 된다."
   ]
  },
  {
   "cell_type": "markdown",
   "metadata": {},
   "source": [
    "### - (1) Running Python code on the robot"
   ]
  },
  {
   "cell_type": "markdown",
   "metadata": {},
   "source": [
    "이번에는 naoqi가 시작할 때, 'Reacting to events'튜토리얼에 있는 script를 자동으로 돌아가도록 해볼것이다.\n",
    "\n",
    "robot으로 해당 script를 upload 한다. (예를 들면, /home/nao/reacting_to_events.py) 그 후, /home/nao/naoqi/preferences/autoload.ini file을 아래의 내용을 가지도록 수정하면 된다. "
   ]
  },
  {
   "cell_type": "code",
   "execution_count": null,
   "metadata": {},
   "outputs": [],
   "source": [
    "[python]\n",
    "/home/nao/reacting_to_events.py"
   ]
  },
  {
   "cell_type": "markdown",
   "metadata": {},
   "source": [
    "script를 실행시키는 동안에 -pip 와 -pport 옵션이 자동적으로 set 되는 것을 알 수 있다."
   ]
  }
 ],
 "metadata": {
  "kernelspec": {
   "display_name": "Python 3",
   "language": "python",
   "name": "python3"
  },
  "language_info": {
   "codemirror_mode": {
    "name": "ipython",
    "version": 3
   },
   "file_extension": ".py",
   "mimetype": "text/x-python",
   "name": "python",
   "nbconvert_exporter": "python",
   "pygments_lexer": "ipython3",
   "version": "3.5.2"
  }
 },
 "nbformat": 4,
 "nbformat_minor": 2
}
