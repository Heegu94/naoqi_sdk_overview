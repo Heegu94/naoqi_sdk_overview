{
 "cells": [
  {
   "cell_type": "markdown",
   "metadata": {},
   "source": [
    "# ALTextToSpeech \n",
    "___\n",
    ": 이번 튜토리얼은 어떻게 문장을 이야기 하는지, 음성효과를 어떻게 바꾸는지, 혹은 합성엔진의 언어와 음성을 어떻게 바꾸는지를 설명해줄 예정이다.\n",
    "\n",
    "\n",
    "## Creating a proxy on the module\n",
    "___\n",
    ": TTS command를 사용하기 전에 RRS module을 생성해야만한다"
   ]
  },
  {
   "cell_type": "code",
   "execution_count": null,
   "metadata": {},
   "outputs": [],
   "source": [
    "#! /usr/bin/env python\n",
    "# -*- encoding: UTF-8 -*-\n",
    "\n",
    "from naoqi import ALProxy\n",
    "\n",
    "IP = \"<IP ADDRESS>\"\n",
    "tts = ALProxy(\"ALTextToSpeech\", IP, 9559)"
   ]
  },
  {
   "cell_type": "markdown",
   "metadata": {},
   "source": [
    "## Saying a text string\n",
    "___\n",
    ": say 함수를 사용하여 문장을 말하도록 한다"
   ]
  },
  {
   "cell_type": "code",
   "execution_count": null,
   "metadata": {},
   "outputs": [],
   "source": [
    "#example : Sends a string to the text-to-speech module\n",
    "\n",
    "tts.say(\"Hello world!\")"
   ]
  },
  {
   "cell_type": "markdown",
   "metadata": {},
   "source": [
    "## Modifying speed\n",
    "___\n",
    ": API는 음성의 속도를 수정할 수 있도록 한다. 예를 들면 :"
   ]
  },
  {
   "cell_type": "code",
   "execution_count": null,
   "metadata": {},
   "outputs": [],
   "source": [
    "tts.setParameter(\"speed\", 200)"
   ]
  },
  {
   "cell_type": "markdown",
   "metadata": {},
   "source": [
    "더 자세한 내용을 알고 싶으면  ALTextToSpeechProxy::setParameter 를 봐라. 다시 default speed 로 가고 싶다면,"
   ]
  },
  {
   "cell_type": "code",
   "execution_count": null,
   "metadata": {},
   "outputs": [],
   "source": [
    "tts.setParameter(\"speed\", 200)\n",
    "tts.setParameter()"
   ]
  },
  {
   "cell_type": "markdown",
   "metadata": {},
   "source": [
    "default 값을 변경하고 싶다면 :"
   ]
  },
  {
   "cell_type": "code",
   "execution_count": null,
   "metadata": {},
   "outputs": [],
   "source": [
    "tts.setParameter(\"defaultVoiceSpeed\", 200)"
   ]
  },
  {
   "cell_type": "markdown",
   "metadata": {},
   "source": [
    "default 속도를 변경하는 것은 현재 속도 값 또한 reset 시킨다.\n",
    "\n",
    "default 속도를 변경하는 것은 비영구적 수정이다. 만약에 다른언어로 바꾸고 다시 돌아오면, default 값은 다시 100으로 돌아가 있다. 특정값을 유지 시키려면, language package안에 저장되있는 voiceSetting.xml 파일에 밑의 내용을 추가 하면 된다."
   ]
  },
  {
   "cell_type": "code",
   "execution_count": null,
   "metadata": {},
   "outputs": [],
   "source": [
    "<Setting name = \"defaultVoiceSpeed\" description = \"Voice speed\" value = \"150.0\"/>"
   ]
  },
  {
   "cell_type": "markdown",
   "metadata": {},
   "source": [
    "이 값은 해당 언어를 사용할 때마다 load된다.\n",
    "\n",
    "## Modifying pitch\n",
    "___\n",
    ": API는 음성의 높낮이를 수정할 수 있도록 한다. 예를들면,"
   ]
  },
  {
   "cell_type": "code",
   "execution_count": null,
   "metadata": {},
   "outputs": [],
   "source": [
    "tts.setParameter(\"pitchShift\", 1.1)"
   ]
  },
  {
   "cell_type": "markdown",
   "metadata": {},
   "source": [
    "이 command는 주 음성의 높낮이를 제기한다. 1.1 은 변형된 voice와 원래 voice 사이의 기본적인 주파수 비율이다.\n",
    "\n",
    "## Modifying double voice parameters\n",
    "___\n",
    ": 3가지 파라미터들을 사용하여 이중 음성 랜더링이 수정될 수 있다.\n",
    "\n",
    "+ doubleVoice : 변형된 voice와 원래 voice 사이의 기본적인 주파수 비율\n",
    "+ doubleVoiceLevel : 두번째 음성과 첫번째 음성 사이의 volume 비율\n",
    "+ doubleVoiceTimeShift : 두번째 음성과 첫번째 음성 사이의 시간 이동\n",
    "\n",
    "예를 들면, \"robotic sounding\" 음성은 아래의 command들을 사용하여 생성될 수 있다."
   ]
  },
  {
   "cell_type": "code",
   "execution_count": null,
   "metadata": {},
   "outputs": [],
   "source": [
    "tts.setParameter(\"doubleVoice\", 1)\n",
    "tts.setParameter(\"doubleVoiceLevel\", 0.5)\n",
    "tts.setParameter(\"doubleVoiceTimeShift\", 0.1)\n",
    "tts.setParameter(\"pitchShift\", 1.1)"
   ]
  },
  {
   "cell_type": "markdown",
   "metadata": {},
   "source": [
    "## Changing the language of the synthesis engine\n",
    "___\n",
    ": 합성 엔진의 언어는 setLanguage 함수를 사용하여 변경될 수 있다. 사용가능한 언어들의 list는 getAvailableLanguages 함수를 사용하여 얻을 수 있다."
   ]
  },
  {
   "cell_type": "code",
   "execution_count": null,
   "metadata": {},
   "outputs": [],
   "source": [
    "#Example : set the language of the synthesis engine to English:\n",
    "\n",
    "tts.setLanguage(\"Enlish\")"
   ]
  },
  {
   "cell_type": "markdown",
   "metadata": {},
   "source": [
    "## Changing the voice of the synthesis engine\n",
    "___\n",
    ": 합성 엔진의 음성은 또한 setVoice 함수를 사용하여 변경할 수 있다. 사용가능한 음성들의 list는 getAvailableVoices 함수를 사용하여 얻을수 있다. 음성을 변경하면, 현재의 언어는 변경한 음성에 해당하는 언어로 자동적으로 변경된다. \n"
   ]
  },
  {
   "cell_type": "code",
   "execution_count": null,
   "metadata": {},
   "outputs": [],
   "source": [
    "#Example : use the voice of Kenny\n",
    "\n",
    "tts.setVoice(\"Kenny22Enhanced\")"
   ]
  },
  {
   "cell_type": "markdown",
   "metadata": {},
   "source": [
    "## Using tags for voice tuning\n",
    "___\n",
    "### Available for all engines\n",
    "___\n",
    ": 당신의 어플리케이션의 컨텍스트에 관한 발음을 변경하기 위해 다른 태그를 사용할 수 있다. 사용 가능한 언어 패키지 태그의 엔진에 따라 달라질 수 있다.\n",
    "\n",
    "#### Changng the pitch\n",
    ": 모든 엔진에서 사용 가능.\n",
    "\n",
    "=> text에  \\\\\\vct=value\\\\\\ 를 삽입한다. 값은 50~200% 사이를 갖는다. default = 100%"
   ]
  },
  {
   "cell_type": "code",
   "execution_count": null,
   "metadata": {},
   "outputs": [],
   "source": [
    "# 문장을 +50%의 높이로 말한다\n",
    "\n",
    "tts.say(\"\\\\vct=value\\\\Hello my friends\")"
   ]
  },
  {
   "cell_type": "markdown",
   "metadata": {},
   "source": [
    "#### Changng the speaking rate\n",
    ": 모든 엔진에서 사용 가능.\n",
    "\n",
    "=> text에 \\\\rspd=value\\\\ 를 삽입한다. 값은 50~400% 사이를 갖는다. default = 100%"
   ]
  },
  {
   "cell_type": "code",
   "execution_count": null,
   "metadata": {},
   "outputs": [],
   "source": [
    "# 일반 속도보다 50% 느리게 문장을 말한다.\n",
    "\n",
    "tts.say(\"\\\\rspd=50\\\\Hello my friends\")"
   ]
  },
  {
   "cell_type": "markdown",
   "metadata": {},
   "source": [
    "#### Inserting a pause\n",
    ": 모든 엔진에서 사용 가능.\n",
    "\n",
    "=> text에 \\\\\\pau=value\\\\\\를 삽입한다. 값은 msec의 지속시간으로 나타남. "
   ]
  },
  {
   "cell_type": "code",
   "execution_count": null,
   "metadata": {},
   "outputs": [],
   "source": [
    "# 1초의 멈춤을 추가한다.\n",
    "\n",
    "tts.say(\"Hello my friends \\\\pau=1000\\\\ how are you ?\")"
   ]
  },
  {
   "cell_type": "markdown",
   "metadata": {},
   "source": [
    "#### Changing the volume\n",
    ": 모든 엔진에서 사용 가능.\n",
    "\n",
    "=> text에 \\\\\\vol=value\\\\\\를 삽입한다. 값은 0~100% 사이를 갖는다. default = 80%. values > 80은 오디오 신호에 cliping을 야기한다."
   ]
  },
  {
   "cell_type": "code",
   "execution_count": null,
   "metadata": {},
   "outputs": [],
   "source": [
    "# 50%의 볼륨으로 말한다.\n",
    "\n",
    "tts.say(\"\\\\vol=50\\\\Hello my friends\")"
   ]
  },
  {
   "cell_type": "markdown",
   "metadata": {},
   "source": [
    "#### Inserting a bookmark\n",
    ": 모든 엔진에서 사용 가능.\n",
    "\n",
    " 이 테그는 speech와 로봇의 특정 동작을 동기화 할때 매우 유용하다.\n",
    "\n",
    "=> text에 \\\\\\mrk=value\\\\\\ 를 삽입한다. 값은 0 ~ 64535 사이에 존재한다.\n",
    " \n",
    " 값은 ALMemory의 event 인 \"ALTextToSpeech/CurrentBookMark\" 안에서 발생한다.\n",
    " "
   ]
  },
  {
   "cell_type": "code",
   "execution_count": null,
   "metadata": {},
   "outputs": [],
   "source": [
    "tts.say(\"\\\\mrk=0\\\\ I say a sentence.\\\\mrk=1\\\\ And a second one.\")"
   ]
  },
  {
   "cell_type": "markdown",
   "metadata": {},
   "source": [
    "#### Resetting control sequence to the default\n",
    "\n",
    ": 모든 엔진에서 사용 가능.\n",
    "\n",
    "text에 \\\\\\rst\\\\\\ 를 삽입한다. 모든 기능을 리셋한다."
   ]
  },
  {
   "cell_type": "code",
   "execution_count": null,
   "metadata": {},
   "outputs": [],
   "source": [
    "# pitch 150% / speaking_rate 50% / hello my friends 이후로 reset\n",
    "\n",
    "tts.say(\"\\\\vct=150\\\\\\\\rspd=50\\\\Hello my friends.\\\\rst\\\\ How are you ?\")"
   ]
  },
  {
   "cell_type": "markdown",
   "metadata": {},
   "source": [
    "### Nuance only\n",
    "___\n",
    "\n",
    "#### Setting the type of prosodic boundary\n",
    "\n",
    ": 오직 Nuance 패키지에서만 사용가능\n",
    "\n",
    "=> text에 \\\\\\bound=value\\\\\\ 를 삽입한다. 가능한 값들로는 :\n",
    "\n",
    "+ W : Weak phrase boundary (구절의 경계를 약하게)\n",
    "+ S : Strong phrase boundary (구절의 경계를 강하게)\n",
    "+ N : No boundary (구절의 경계 없게)"
   ]
  },
  {
   "cell_type": "code",
   "execution_count": null,
   "metadata": {},
   "outputs": [],
   "source": [
    "# Say the sentence with a weak phrase boundary (no silence in speech)\n",
    "tts.say(\"\\\\bound=W\\\\ Hello my friends\")\n",
    "\n",
    "# Say the sentence with a strong phrase boundary (silence in speech)\n",
    "tts.say(\"\\\\bound=S\\\\ Hello my friends\")"
   ]
  },
  {
   "cell_type": "markdown",
   "metadata": {},
   "source": [
    "#### Setting the word prominence level \n",
    "\n",
    ": 오직 Nuance 패키지에서만 사용가능\n",
    "\n",
    "=> text에 \\\\\\emph=value\\\\\\ 를 삽입한다. 가능한 값들로는 :\n",
    "\n",
    "+ 0 : 줄이다\n",
    "+ 1 : 늘리다\n",
    "+ 2 : 악센트"
   ]
  },
  {
   "cell_type": "code",
   "execution_count": null,
   "metadata": {},
   "outputs": [],
   "source": [
    "tts.say(\"\\\\emph=0\\\\ There is a total of 32 apples and 12 oranges\")\n",
    "tts.say(\"\\\\emph=1\\\\ There is a total of 32 apples and 12 oranges\")\n",
    "tts.say(\"\\\\emph=2\\\\ There is a total of 32 apples and 12 oranges\")"
   ]
  },
  {
   "cell_type": "markdown",
   "metadata": {},
   "source": [
    "#### Controlling end-of-sentence detection\n",
    "\n",
    ": 오직 Nuance 패키지에서만 사용가능\n",
    "\n",
    "=> text에 \\\\\\eos=value\\\\\\ 를 삽입한다. 가능한 값들로는 :\n",
    "\n",
    "+ 0 : suppress a sentence break(no break)\n",
    "+ 1 : force a sentence break(break)\n",
    "\n",
    "> Warning : break를 유발하는 심볼 이후에 즉시 나타나야만 한다."
   ]
  },
  {
   "cell_type": "code",
   "execution_count": null,
   "metadata": {},
   "outputs": [],
   "source": [
    "tts.say(\"Hello my friends.\\\\eos=0\\\\How are you ?\") # no break\n",
    "tts.say(\"Hello my friends.\\\\eos=1\\\\How are you ?\") # break"
   ]
  },
  {
   "cell_type": "markdown",
   "metadata": {},
   "source": [
    "#### Controlling the read mode\n",
    "___\n",
    ": 오직 Nuance 패키지에서만 사용가능\n",
    "\n",
    "=> text에 \\\\\\readmode=value\\\\\\ 를 삽입한다. 가능한 값으로는:\n",
    "\n",
    "+ sent : sentence mode (default)\n",
    "+ char : Character mode (similar to spelling)\n",
    "+ word : word-by-word "
   ]
  },
  {
   "cell_type": "code",
   "execution_count": null,
   "metadata": {},
   "outputs": [],
   "source": [
    "tts.say(\"\\\\readmode=sent\\\\ Hello my friends\")\n",
    "tts.say(\"\\\\readmode=char\\\\ Hello my friends\")\n",
    "tts.say(\"\\\\readmode=word\\\\ Hello my friends\")"
   ]
  },
  {
   "cell_type": "markdown",
   "metadata": {},
   "source": [
    "#### Guiding text normalization\n",
    "\n",
    ": 오직 Nuance 패키지에서만 사용가능\n",
    "\n",
    "=> text에 \\\\\\tn=value\\\\\\ 를 삽입한다. 가능한 값으로는:\n",
    "\n",
    "+ spell : 입력으로 들어오는 text를 speeling out 한다.\n",
    "+ address : 입력으로 들어오는 text를 주소처럼 확장한다.\n",
    "+ sms : 입력으로 들어오는 text를 sms 메세지 처럼 확장한다.\n",
    "+ normal : 텍스트 normalization을 reset 한다."
   ]
  },
  {
   "cell_type": "code",
   "execution_count": null,
   "metadata": {},
   "outputs": [],
   "source": [
    "tts.say(\"\\\\tn=address\\ 244 Perryn Rd Ithaca, NY \\\\tn=normal\\\\ That’s spelled \\\\tn=spell\\\\ Ithaca \\\\tn=normal\\\\.\")\n",
    "tts.say(\"\\\\tn=sms\\\\ Carlo, can u give me a lift 2 Helena's house 2nite? David \\\\tn=normal\\\\\")"
   ]
  },
  {
   "cell_type": "markdown",
   "metadata": {},
   "source": [
    "#### setting the spelling pause duration\n",
    "\n",
    ": 오직 Nuance 패키지에서만 사용가능\n",
    "\n",
    "=> text에 \\\\\\spell=value\\\\\\ 를 삽입한다. 여기서 value는 msec 단위로 나타나며, 문자간 멈춤을 뜻함"
   ]
  },
  {
   "cell_type": "code",
   "execution_count": null,
   "metadata": {},
   "outputs": [],
   "source": [
    "tts.say(\"\\\\tn=spell\\\\hello\")\n",
    "tts.say(\"\\\\tn=spell\\\\\\\\spell=2000\\\\hello\")"
   ]
  },
  {
   "cell_type": "markdown",
   "metadata": {},
   "source": [
    "#### Inserting a digital audio recording\n",
    "\n",
    ": 오직 Nuance 패키지에서만 사용가능\n",
    "\n",
    "=> text에 \\\\\\audio=path\\\\\\ 를 삽입한다. 여기서 path는 로봇의 오디오 파일 경로이다.\n",
    "\n",
    "Warning : 오디오 파일은 WAV파일(linear 16-bit PCM samples at 22050Hz) 이어야 한다. "
   ]
  },
  {
   "cell_type": "code",
   "execution_count": null,
   "metadata": {},
   "outputs": [],
   "source": [
    "tts.say(\"\\\\audio=\\\"/usr/share/naoqi/wav/0.wav\\\"\\\\\")"
   ]
  },
  {
   "cell_type": "markdown",
   "metadata": {},
   "source": [
    "#### Inserting phonetic text\n",
    "\n",
    ": 오직 Nuance 패키지에서만 사용가능\n",
    "\n",
    "=> 기본적인 NUANCE 엔진은 입력을 정형 텍스트로 지원하지만, 다른 음성텍스트 또한 지원한다. \\toi=value\\ 태그에는 control절차 이후 시작하는 입력 유형을 표시한다.\n",
    "\n",
    "+ lhp: 음성 알파벳 L&H+의 음성 텍스트 (Nuance specific alphabet).\n",
    "+ orth: 정형적인 텍스트 (default)\n",
    "\n",
    "Note : 만약 입력의 유형을 리셋하려고 한다면, 단어 이후에 \\toi=orth\\를 잊지말자.\n",
    "\n"
   ]
  },
  {
   "cell_type": "code",
   "execution_count": null,
   "metadata": {},
   "outputs": [],
   "source": [
    "tts.setLanguage(\"English\")\n",
    "tts.say(\"\\\\toi=lhp\\\\‘zi.R+o&U \\\\toi=orth\\\\\")\n",
    "# Same as\n",
    "tts.say(\"zero\")"
   ]
  },
  {
   "cell_type": "markdown",
   "metadata": {},
   "source": [
    "#### Changing the style of the voice\n",
    "\n",
    ": Nuance 중국어, 영어, 불어 패키지에서만 가능 => 정리 x"
   ]
  }
 ],
 "metadata": {
  "kernelspec": {
   "display_name": "Python 2",
   "language": "python",
   "name": "python2"
  },
  "language_info": {
   "codemirror_mode": {
    "name": "ipython",
    "version": 2
   },
   "file_extension": ".py",
   "mimetype": "text/x-python",
   "name": "python",
   "nbconvert_exporter": "python",
   "pygments_lexer": "ipython2",
   "version": "2.7.12"
  }
 },
 "nbformat": 4,
 "nbformat_minor": 2
}
